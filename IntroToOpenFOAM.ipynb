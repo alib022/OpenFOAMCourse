{
 "cells": [
  {
   "cell_type": "markdown",
   "metadata": {
    "nbpresent": {
     "id": "4f189a60-bcaa-40db-821e-91ec803ef777"
    },
    "slideshow": {
     "slide_type": "slide"
    }
   },
   "source": [
    "# Introduction to OpenFOAM\n",
    "\n",
    "## Ali Bakhshinejad\n",
    "\n",
    "### UWM March 4th 2017"
   ]
  },
  {
   "cell_type": "markdown",
   "metadata": {
    "slideshow": {
     "slide_type": "slide"
    }
   },
   "source": [
    "# Section 1\n",
    "\n",
    "## OpenFOAM & CFD"
   ]
  },
  {
   "cell_type": "markdown",
   "metadata": {
    "nbpresent": {
     "id": "f218f8bd-5129-47b3-bfac-61bfdff6dff1"
    },
    "slideshow": {
     "slide_type": "slide"
    }
   },
   "source": [
    "# Introduction to OpenFOAM\n",
    "\n",
    "- OpenFOAM (Open Source Field Operation And Manipulation) is a C++ toolbox for the development of customized numerical solvers, and pre-/post-processing utilities for the solution of continuum mechanics problems, including computational fluid dynamics (CFD). \n",
    "\n",
    "- The code is released as free and open source software under the GNU General Public License.\n",
    "\n"
   ]
  },
  {
   "cell_type": "markdown",
   "metadata": {
    "nbpresent": {
     "id": "a5fbae32-c08d-4b31-bda8-d37844524200"
    },
    "slideshow": {
     "slide_type": "slide"
    }
   },
   "source": [
    "# History\n",
    "\n",
    "OpenFOAM (originally, FOAM) was created by Henry Weller at late 1980s at Imperial College, London.\n",
    "\n",
    "He used C++ as programming language."
   ]
  },
  {
   "cell_type": "markdown",
   "metadata": {
    "nbpresent": {
     "id": "4d50c3c4-dd90-4533-81d0-95bf63d1f79f"
    },
    "slideshow": {
     "slide_type": "slide"
    }
   },
   "source": [
    "# Advantages and disadvantages\n",
    "\n",
    "## Advantages\n",
    "\n",
    "- Friendly syntax for PDEs\n",
    "- Fully document source code\n",
    "- Automated parallelization of applications written using OpenFOAM high-level syntax\n",
    "- Wide range of applications and models ready to use\n",
    "- No license costs\n",
    "\n"
   ]
  },
  {
   "cell_type": "markdown",
   "metadata": {
    "slideshow": {
     "slide_type": "subslide"
    }
   },
   "source": [
    "## Disadvantage\n",
    "\n",
    "- Multiple development groups\n",
    "- Absence of an integrated graphical user interface\n",
    "- Steep learning curve"
   ]
  },
  {
   "cell_type": "markdown",
   "metadata": {
    "slideshow": {
     "slide_type": "slide"
    }
   },
   "source": [
    "# Syntax\n",
    "\n",
    "To solve the following equation:\n",
    "\n",
    "$$\\frac{\\partial \\rho U}{\\partial t} + \\nabla . \\phi U - \\nabla . \\mu \\nabla U = - \\nabla p$$"
   ]
  },
  {
   "cell_type": "markdown",
   "metadata": {
    "slideshow": {
     "slide_type": "fragment"
    }
   },
   "source": [
    "Can be represented by code as:\n",
    "    "
   ]
  },
  {
   "cell_type": "code",
   "execution_count": null,
   "metadata": {
    "collapsed": true,
    "slideshow": {
     "slide_type": "fragment"
    }
   },
   "outputs": [],
   "source": [
    "solve\n",
    "(\n",
    "     fvm::ddt(rho,U)\n",
    "   + fvm::div(phi,U)\n",
    "   - fvm::laplacian(mu,U)\n",
    "  ==\n",
    "   - fvc::grad(p)\n",
    ");"
   ]
  },
  {
   "cell_type": "markdown",
   "metadata": {
    "slideshow": {
     "slide_type": "slide"
    }
   },
   "source": [
    "# Standard Solvers\n",
    "\n",
    "Please follow the link:\n",
    "\n",
    "http://www.openfoam.com/documentation/user-guide/standard-solvers.php"
   ]
  },
  {
   "cell_type": "markdown",
   "metadata": {
    "slideshow": {
     "slide_type": "slide"
    }
   },
   "source": [
    "# File structure of OpenFOAM cases\n",
    "\n",
    "Please follow the link:\n",
    "\n",
    "http://www.openfoam.com/documentation/user-guide/case-file-structure.php#x5-40002.1"
   ]
  },
  {
   "cell_type": "markdown",
   "metadata": {
    "slideshow": {
     "slide_type": "slide"
    }
   },
   "source": [
    "# Example 1\n",
    "## Lid-driven cavity flow"
   ]
  }
 ],
 "metadata": {
  "anaconda-cloud": {},
  "celltoolbar": "Slideshow",
  "kernelspec": {
   "display_name": "Python [Root]",
   "language": "python",
   "name": "Python [Root]"
  },
  "language_info": {
   "codemirror_mode": {
    "name": "ipython",
    "version": 3
   },
   "file_extension": ".py",
   "mimetype": "text/x-python",
   "name": "python",
   "nbconvert_exporter": "python",
   "pygments_lexer": "ipython3",
   "version": "3.5.2"
  },
  "nbpresent": {
   "slides": {},
   "themes": {}
  }
 },
 "nbformat": 4,
 "nbformat_minor": 0
}
