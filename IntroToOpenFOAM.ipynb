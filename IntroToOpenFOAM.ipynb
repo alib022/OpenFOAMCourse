{
 "cells": [
  {
   "cell_type": "markdown",
   "metadata": {
    "nbpresent": {
     "id": "4f189a60-bcaa-40db-821e-91ec803ef777"
    },
    "slideshow": {
     "slide_type": "slide"
    }
   },
   "source": [
    "# Introduction to OpenFOAM\n",
    "\n",
    "## Ali Bakhshinejad\n",
    "\n",
    "### UWM March 4th 2017\n",
    "\n",
    "Sponsor:\n",
    "  \n",
    "<a href=\"www.AlphaCore.Solutions\"><img src=\"img/AlphaCore_Logo.png\" alt=\"AlphaCore Solutions\" style=\"width: 200px;\"/></a>\n"
   ]
  },
  {
   "cell_type": "markdown",
   "metadata": {
    "slideshow": {
     "slide_type": "slide"
    }
   },
   "source": [
    "# Section 1\n",
    "\n",
    "## OpenFOAM --- Computational Fluid Dynamics"
   ]
  },
  {
   "cell_type": "markdown",
   "metadata": {
    "nbpresent": {
     "id": "f218f8bd-5129-47b3-bfac-61bfdff6dff1"
    },
    "slideshow": {
     "slide_type": "slide"
    }
   },
   "source": [
    "# Introduction to OpenFOAM\n",
    "\n",
    "- OpenFOAM (Open Source Field Operation And Manipulation) is a C++ toolbox for the development of customized numerical solvers, and pre-/post-processing utilities for the solution of continuum mechanics problems, including computational fluid dynamics (CFD). \n",
    "\n",
    "- The code is released as free and open source software under the GNU General Public License.\n",
    "\n"
   ]
  },
  {
   "cell_type": "markdown",
   "metadata": {
    "nbpresent": {
     "id": "a5fbae32-c08d-4b31-bda8-d37844524200"
    },
    "slideshow": {
     "slide_type": "slide"
    }
   },
   "source": [
    "# History\n",
    "\n",
    "OpenFOAM (originally, FOAM) was created by Henry Weller at late 1980s at Imperial College, London.\n",
    "\n",
    "He used C++ as programming language."
   ]
  },
  {
   "cell_type": "markdown",
   "metadata": {
    "nbpresent": {
     "id": "4d50c3c4-dd90-4533-81d0-95bf63d1f79f"
    },
    "slideshow": {
     "slide_type": "slide"
    }
   },
   "source": [
    "# Advantages and disadvantages\n",
    "\n",
    "## Advantages\n",
    "\n",
    "- Friendly syntax for PDEs\n",
    "- Fully document source code\n",
    "- Automated parallelization of applications written using OpenFOAM high-level syntax\n",
    "- Wide range of applications and models ready to use\n",
    "- No license costs\n",
    "\n"
   ]
  },
  {
   "cell_type": "markdown",
   "metadata": {
    "slideshow": {
     "slide_type": "subslide"
    }
   },
   "source": [
    "## Disadvantage\n",
    "\n",
    "- Multiple development groups\n",
    "- Absence of an integrated graphical user interface\n",
    "- Steep learning curve"
   ]
  },
  {
   "cell_type": "markdown",
   "metadata": {
    "slideshow": {
     "slide_type": "slide"
    }
   },
   "source": [
    "# Syntax\n",
    "\n",
    "To solve the following equation:\n",
    "\n",
    "$$\\frac{\\partial \\rho U}{\\partial t} + \\nabla . \\phi U - \\nabla . \\mu \\nabla U = - \\nabla p$$"
   ]
  },
  {
   "cell_type": "markdown",
   "metadata": {
    "slideshow": {
     "slide_type": "fragment"
    }
   },
   "source": [
    "Can be represented by code as:\n",
    "    "
   ]
  },
  {
   "cell_type": "code",
   "execution_count": null,
   "metadata": {
    "collapsed": true,
    "slideshow": {
     "slide_type": "fragment"
    }
   },
   "outputs": [],
   "source": [
    "solve\n",
    "(\n",
    "     fvm::ddt(rho,U)\n",
    "   + fvm::div(phi,U)\n",
    "   - fvm::laplacian(mu,U)\n",
    "  ==\n",
    "   - fvc::grad(p)\n",
    ");"
   ]
  },
  {
   "cell_type": "markdown",
   "metadata": {
    "slideshow": {
     "slide_type": "slide"
    }
   },
   "source": [
    "# Standard Solvers\n",
    "\n",
    "Please follow the link:\n",
    "\n",
    "http://www.openfoam.com/documentation/user-guide/standard-solvers.php"
   ]
  },
  {
   "cell_type": "markdown",
   "metadata": {
    "slideshow": {
     "slide_type": "slide"
    }
   },
   "source": [
    "# File structure of OpenFOAM cases\n",
    "\n",
    "Please follow the link:\n",
    "\n",
    "http://www.openfoam.com/documentation/user-guide/case-file-structure.php#x5-40002.1"
   ]
  },
  {
   "cell_type": "markdown",
   "metadata": {
    "slideshow": {
     "slide_type": "slide"
    }
   },
   "source": [
    "# Example 1\n",
    "## Lid-driven cavity flow\n",
    "\n",
    "\n",
    "![Lid-driven cavity example](img/tutorial1x.png)\n",
    "\n",
    "http://www.openfoam.com/documentation/tutorial-guide/tutorialse1.php#x4-30001.1\n"
   ]
  },
  {
   "cell_type": "markdown",
   "metadata": {
    "slideshow": {
     "slide_type": "slide"
    }
   },
   "source": [
    "# Section 2\n",
    "\n",
    "## OpenFOAM --- C++"
   ]
  },
  {
   "cell_type": "markdown",
   "metadata": {
    "slideshow": {
     "slide_type": "slide"
    }
   },
   "source": [
    "# Example 2\n",
    "## Write your first solver:\n",
    "\n",
    "#### Task 1: Create an application called cppIntro that:\n",
    "     Calculates a x b where a = 2 is an integer and b = 1.2 is a real number and prints out the results into the terminal.\n",
    "     \n",
    "\n"
   ]
  },
  {
   "cell_type": "markdown",
   "metadata": {
    "slideshow": {
     "slide_type": "fragment"
    }
   },
   "source": [
    "### Step 1:\n",
    "\n",
    "Create a folder named cppIntro and go into it:"
   ]
  },
  {
   "cell_type": "code",
   "execution_count": null,
   "metadata": {
    "collapsed": true,
    "slideshow": {
     "slide_type": "fragment"
    }
   },
   "outputs": [],
   "source": [
    "run\n",
    "mkdir cppIntro\n",
    "cd cppIntro"
   ]
  },
  {
   "cell_type": "markdown",
   "metadata": {
    "slideshow": {
     "slide_type": "fragment"
    }
   },
   "source": [
    "Open an editor an maked a file named cppIntro.C as follow:"
   ]
  },
  {
   "cell_type": "code",
   "execution_count": null,
   "metadata": {
    "collapsed": true,
    "slideshow": {
     "slide_type": "fragment"
    }
   },
   "outputs": [],
   "source": [
    "#include <iostream>\n",
    "\n",
    "int main()\n",
    "{\n",
    "    int a = 2;\n",
    "    double b = 1.2;\n",
    "    \n",
    "    std::cout << a << \" * \" << b << \" = \" << a*b << \"\\n\";\n",
    "    \n",
    "    return 0;\n",
    "    \n",
    "}"
   ]
  },
  {
   "cell_type": "markdown",
   "metadata": {
    "slideshow": {
     "slide_type": "slide"
    }
   },
   "source": [
    "### Step 2:\n",
    "\n",
    "Create required files and folders and compile the code.\n"
   ]
  },
  {
   "cell_type": "markdown",
   "metadata": {
    "slideshow": {
     "slide_type": "fragment"
    }
   },
   "source": [
    "Run wmakeFilesAndOptions creates Make folder with files and Options files"
   ]
  },
  {
   "cell_type": "code",
   "execution_count": null,
   "metadata": {
    "collapsed": true,
    "slideshow": {
     "slide_type": "fragment"
    }
   },
   "outputs": [],
   "source": [
    "wmakeFilesAndOptions"
   ]
  },
  {
   "cell_type": "markdown",
   "metadata": {
    "slideshow": {
     "slide_type": "fragment"
    }
   },
   "source": [
    "Edit files:"
   ]
  },
  {
   "cell_type": "code",
   "execution_count": null,
   "metadata": {
    "collapsed": true,
    "slideshow": {
     "slide_type": "fragment"
    }
   },
   "outputs": [],
   "source": [
    "cppIntro.C\n",
    "\n",
    "EXE = $(FOAM_USER_APPBIN)/cppIntro"
   ]
  },
  {
   "cell_type": "markdown",
   "metadata": {
    "slideshow": {
     "slide_type": "fragment"
    }
   },
   "source": [
    "Compile the code using wmake"
   ]
  },
  {
   "cell_type": "code",
   "execution_count": null,
   "metadata": {
    "collapsed": true,
    "slideshow": {
     "slide_type": "fragment"
    }
   },
   "outputs": [],
   "source": [
    "wmake"
   ]
  },
  {
   "cell_type": "markdown",
   "metadata": {
    "slideshow": {
     "slide_type": "fragment"
    }
   },
   "source": [
    "Run the application"
   ]
  },
  {
   "cell_type": "code",
   "execution_count": null,
   "metadata": {
    "collapsed": true,
    "slideshow": {
     "slide_type": "fragment"
    }
   },
   "outputs": [],
   "source": [
    "cppIntro"
   ]
  },
  {
   "cell_type": "markdown",
   "metadata": {
    "slideshow": {
     "slide_type": "slide"
    }
   },
   "source": [
    "###Task 2: Calculate b^2\n",
    "\n",
    "Add the following link before return(0):"
   ]
  },
  {
   "cell_type": "code",
   "execution_count": null,
   "metadata": {
    "collapsed": true,
    "slideshow": {
     "slide_type": "fragment"
    }
   },
   "outputs": [],
   "source": [
    "std::cout << \"sqr(\" << b << \") = \" << pow(b,2) << \"\\n\";"
   ]
  },
  {
   "cell_type": "code",
   "execution_count": null,
   "metadata": {
    "collapsed": true,
    "slideshow": {
     "slide_type": "fragment"
    }
   },
   "outputs": [],
   "source": [
    "Error:\n",
    "    cppIntro.C:10:51: error: 'pow' was not declared in this scope\n",
    "    std::cout << \"sqr(\" << b << \") = \" << pow(b,2) << \"\\n\";"
   ]
  },
  {
   "cell_type": "markdown",
   "metadata": {
    "slideshow": {
     "slide_type": "fragment"
    }
   },
   "source": [
    "--> Header files are mainly declaration so compilers can recognise names or functions\n",
    "--> Name space, named scope of a oftware package\n",
    "--> Online resource:  www.learncpp.com"
   ]
  },
  {
   "cell_type": "markdown",
   "metadata": {
    "slideshow": {
     "slide_type": "slide"
    }
   },
   "source": [
    "# Example 3:\n",
    "## Re-write your solver using OpenFOAM libraries!\n",
    "\n",
    "### Task 1: Create an application called foamIntro"
   ]
  },
  {
   "cell_type": "code",
   "execution_count": null,
   "metadata": {
    "collapsed": true,
    "slideshow": {
     "slide_type": "fragment"
    }
   },
   "outputs": [],
   "source": [
    "#include \"IOstreams.H\"\n",
    "\n",
    "using namespace Foam;\n",
    "\n",
    "int main()\n",
    "{\n",
    "    label a = 2;\n",
    "    scalar b = 1.2;\n",
    "    \n",
    "    Info << a << \" * \" << b << \" = \" << a*b << endl;\n",
    "    Info << \"sqr(\" << b << \") = \" << sqr(b) << endl;\n",
    "    \n",
    "    return 0;\n",
    "}"
   ]
  },
  {
   "cell_type": "markdown",
   "metadata": {
    "slideshow": {
     "slide_type": "fragment"
    }
   },
   "source": [
    "int --> label\n",
    "double --> scalar\n",
    "cout --> Info\n",
    "    endl means \"end line\"\n"
   ]
  },
  {
   "cell_type": "markdown",
   "metadata": {
    "slideshow": {
     "slide_type": "slide"
    }
   },
   "source": [
    "# Example 4:\n",
    "\n",
    "### Task 1: Add to vectors u + v where: u = [1 2 3] and v = [4 5 6]\n",
    "\n"
   ]
  },
  {
   "cell_type": "code",
   "execution_count": null,
   "metadata": {
    "collapsed": true,
    "slideshow": {
     "slide_type": "fragment"
    }
   },
   "outputs": [],
   "source": [
    "vector u(1, 2, 3);\n",
    "vector v(4, 5, 6);\n",
    "tensor T(1, 2, 3, 4, 5, 6, 7, 8, 9);"
   ]
  },
  {
   "cell_type": "markdown",
   "metadata": {
    "slideshow": {
     "slide_type": "fragment"
    }
   },
   "source": [
    "You gonna need vector.H to declare vectors and tensor.H to define tensors Or"
   ]
  },
  {
   "cell_type": "markdown",
   "metadata": {
    "slideshow": {
     "slide_type": "fragment"
    }
   },
   "source": [
    "You can use fieldTypes.H which includes both and a lot more..."
   ]
  },
  {
   "cell_type": "code",
   "execution_count": null,
   "metadata": {
    "collapsed": true,
    "slideshow": {
     "slide_type": "fragment"
    }
   },
   "outputs": [],
   "source": [
    "b x u:\n",
    "    Info << \"b*u = \" << b*u << endl;\n",
    "u + v:\n",
    "    Info << \"u + v = \" << u + v << endl;\n",
    "    \n",
    "u . v:\n",
    "    Info << \" u . v = \" << u & v << endl;\n",
    "    \n",
    "T . u:\n",
    "    Info << \"T . u = \" << T & u << endl;"
   ]
  },
  {
   "cell_type": "markdown",
   "metadata": {
    "slideshow": {
     "slide_type": "slide"
    }
   },
   "source": [
    "# Example 5:\n",
    "\n",
    "## create a list of Fibonnaci numbers 1,1,2,3,5,8,13,21, ... ~ 10^6"
   ]
  },
  {
   "cell_type": "code",
   "execution_count": null,
   "metadata": {
    "collapsed": true,
    "slideshow": {
     "slide_type": "fragment"
    }
   },
   "outputs": [],
   "source": [
    "#include \"IOstreams.H\"\n",
    "#include \"List.H\"\n",
    "\n",
    "using namespace Foam;\n",
    "\n",
    "int main()\n",
    "{\n",
    "    List<label> a(2,1);\n",
    "    \n",
    "    while (a.last() < 1e6)\n",
    "    {\n",
    "        a.append(a.last() + a[a.size() - 2]);\n",
    "    }\n",
    "    \n",
    "    Info << a << endl;\n",
    "    \n",
    "    return 0;\n",
    "    \n",
    "}"
   ]
  }
 ],
 "metadata": {
  "anaconda-cloud": {},
  "celltoolbar": "Slideshow",
  "kernelspec": {
   "display_name": "Python [Root]",
   "language": "python",
   "name": "Python [Root]"
  },
  "language_info": {
   "codemirror_mode": {
    "name": "ipython",
    "version": 3
   },
   "file_extension": ".py",
   "mimetype": "text/x-python",
   "name": "python",
   "nbconvert_exporter": "python",
   "pygments_lexer": "ipython3",
   "version": "3.5.2"
  },
  "nbpresent": {
   "slides": {},
   "themes": {}
  }
 },
 "nbformat": 4,
 "nbformat_minor": 0
}
